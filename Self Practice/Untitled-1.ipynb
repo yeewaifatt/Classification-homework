{
 "cells": [
  {
   "cell_type": "code",
   "execution_count": 9,
   "metadata": {},
   "outputs": [
    {
     "name": "stdout",
     "output_type": "stream",
     "text": [
      "23\n"
     ]
    }
   ],
   "source": [
    "L = [1, 2, 3 , 3, 4, 6, 7]\n",
    "Total_L = 0\n",
    "for e in L:\n",
    "    if e >= 3:\n",
    "        Total_L += e\n",
    "print(Total_L)"
   ]
  }
 ],
 "metadata": {
  "interpreter": {
   "hash": "f87d8870fd296f2a56f50024758e748acb97fe48e916e6ac3079f34f67d4113f"
  },
  "kernelspec": {
   "display_name": "Python 3.7.11 ('dev')",
   "language": "python",
   "name": "python3"
  },
  "language_info": {
   "codemirror_mode": {
    "name": "ipython",
    "version": 3
   },
   "file_extension": ".py",
   "mimetype": "text/x-python",
   "name": "python",
   "nbconvert_exporter": "python",
   "pygments_lexer": "ipython3",
   "version": "3.7.11"
  },
  "orig_nbformat": 4
 },
 "nbformat": 4,
 "nbformat_minor": 2
}
